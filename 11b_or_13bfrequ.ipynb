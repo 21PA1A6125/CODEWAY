{
  "cells": [
    {
      "cell_type": "code",
      "execution_count": null,
      "metadata": {
        "colab": {
          "base_uri": "https://localhost:8080/"
        },
        "id": "aAueuG-MjPqR",
        "outputId": "540c5985-83ce-45bb-8abb-70c15da8345f"
      },
      "outputs": [
        {
          "output_type": "stream",
          "name": "stdout",
          "text": [
            "3\n"
          ]
        }
      ],
      "source": [
        "import numpy\n",
        "# create numpy array\n",
        "arr = numpy.array([[2, 8, 9, 4],\n",
        "                   [9, 6, 9, 4],\n",
        "                   [4, 5, 9, 7],\n",
        "                   [2, 9, 4, 3]])\n",
        "# Counting sequence\n",
        "output = repr(arr).count(\"9, 4\")\n",
        "# view output\n",
        "print(output)"
      ]
    },
    {
      "cell_type": "code",
      "execution_count": null,
      "metadata": {
        "colab": {
          "base_uri": "https://localhost:8080/"
        },
        "id": "reDlNXd-5kFv",
        "outputId": "7714ca3e-970d-4dce-c563-5b423053f51d"
      },
      "outputs": [
        {
          "name": "stdout",
          "output_type": "stream",
          "text": [
            "Original array:\n",
            "[1 2 3 4 5 1 2 1 1 1]\n",
            "Most frequent value in the above array :\n",
            "1\n"
          ]
        }
      ],
      "source": [
        "import numpy as np\n",
        "# create array\n",
        "x = np.array([1,2,3,4,5,1,2,1,1,1])\n",
        "print(\"Original array:\")\n",
        "print(x)\n",
        "print(\"Most frequent value in the above array :\")\n",
        "print(np.bincount(x).argmax())"
      ]
    },
    {
      "cell_type": "code",
      "execution_count": null,
      "metadata": {
        "colab": {
          "base_uri": "https://localhost:8080/"
        },
        "id": "8lxgCF_Q4fRn",
        "outputId": "78e23100-0ee5-49c1-d4ce-5d5148f45151"
      },
      "outputs": [
        {
          "name": "stdout",
          "output_type": "stream",
          "text": [
            "Original array:\n",
            "[1 1 1 2 3 4 2 4 3 3]\n",
            "Most frequent value in above array and count:\n",
            "1 3\n",
            "3 3\n"
          ]
        }
      ],
      "source": [
        "##If the array has more than one element having maximum frequency\n",
        "import numpy as np\n",
        "x = np.array([1, 1, 1, 2, 3, 4, 2, 4, 3, 3, ])\n",
        "print(\"Original array:\")\n",
        "print(x)\n",
        "print(\"Most frequent value in above array and count:\")\n",
        "y = np.bincount(x)\n",
        "maximum = max(y)\n",
        "for i in range(len(y)):\n",
        "    if y[i] == maximum:\n",
        "        print(i,y[i])"
      ]
    }
  ],
  "metadata": {
    "colab": {
      "provenance": []
    },
    "kernelspec": {
      "display_name": "Python 3",
      "name": "python3"
    },
    "language_info": {
      "name": "python"
    }
  },
  "nbformat": 4,
  "nbformat_minor": 0
}